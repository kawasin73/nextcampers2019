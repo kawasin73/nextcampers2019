{
 "cells": [
  {
   "cell_type": "code",
   "execution_count": 1,
   "metadata": {},
   "outputs": [],
   "source": [
    "import re\n",
    "from sklearn.feature_extraction.text import CountVectorizer\n",
    "from sklearn.naive_bayes import MultinomialNB\n",
    "from sklearn.metrics import accuracy_score, confusion_matrix\n",
    "import numpy as np\n",
    "from sklearn.naive_bayes import MultinomialNB\n",
    "from sklearn.feature_extraction.text import TfidfTransformer\n",
    "from sklearn.feature_extraction.text import CountVectorizer\n",
    "from sklearn.cluster import KMeans\n",
    "from collections import defaultdict\n",
    "\n",
    "def data_loader(f_name):\n",
    "    with open(f_name, mode='r', encoding='utf-8') as f:\n",
    "        data = list(set(f.readlines()))\n",
    "        return data\n",
    "\n",
    "NON_LABEL_FILE = 'dataset/level_3_non_label.csv'\n",
    "DOC2VEC_MODEL_FILE = 'dataset/doc2vec'\n",
    "\n",
    "STOP_WORDS = []"
   ]
  },
  {
   "cell_type": "code",
   "execution_count": 2,
   "metadata": {},
   "outputs": [],
   "source": [
    "fmt_tag = \"</*[a-zA-Z0-9]+|>\"\n",
    "fmt_html_escape = \"&[a-zA-Z0-9]+;\"\n",
    "fmt_symbol = \"=|:|;|\\\"|\\\\\\\\\\\\\\\\|\\\\\\\\|\\(|\\)|`|&\"\n",
    "\n",
    "fmt = \"(%s|%s|%s)\" %(fmt_tag, fmt_html_escape, fmt_symbol)\n",
    "\n",
    "def filter_not_script(w):\n",
    "    return (w[0] != \"<\") or (w == \"<script\")\n",
    "\n",
    "def parse_text(text):\n",
    "    text = text.lower()\n",
    "    parsed = re.split(fmt, text.rstrip(\"\\n\"))\n",
    "    # remove white space in head and tail\n",
    "    parsed = map(lambda x : x.strip(), parsed)\n",
    "    # remove empty string\n",
    "    parsed = filter(None, parsed)\n",
    "    # filter not <script tag\n",
    "    parsed = filter(filter_not_script, parsed)\n",
    "    # remove \">\"\n",
    "    parsed = filter(lambda x : x != \">\", parsed)\n",
    "    return list(parsed)"
   ]
  },
  {
   "cell_type": "code",
   "execution_count": 3,
   "metadata": {},
   "outputs": [],
   "source": [
    "data = data_loader(NON_LABEL_FILE)"
   ]
  },
  {
   "cell_type": "code",
   "execution_count": 4,
   "metadata": {},
   "outputs": [],
   "source": [
    "# https://qiita.com/Ikeda_yu/items/94247d819e6a0808d0b7\n",
    "\n",
    "from gensim.models.doc2vec import Doc2Vec\n",
    "from gensim.models.doc2vec import TaggedDocument\n",
    "\n",
    "trainings = [TaggedDocument(words = parse_text(d), tags = [i]) for i,d in enumerate(data)]\n",
    "\n",
    "# トレーニング（パラメータについては後日）\n",
    "m = Doc2Vec(documents= trainings, dm = 1, vector_size=300, window=8, min_count=5, workers=4)\n",
    "\n",
    "# モデルのセーブ\n",
    "m.save(DOC2VEC_MODEL_FILE)"
   ]
  },
  {
   "cell_type": "code",
   "execution_count": 5,
   "metadata": {},
   "outputs": [],
   "source": [
    "# m = Doc2Vec.load(DOC2VEC_MODEL_FILE)"
   ]
  },
  {
   "cell_type": "code",
   "execution_count": 6,
   "metadata": {},
   "outputs": [
    {
     "data": {
      "text/plain": [
       "array([0, 0, 0, 0, 0, 1, 0, 0, 0, 0, 0, 0, 0, 0, 0, 0, 0, 0, 0, 0, 0, 0,\n",
       "       0, 0, 0, 0, 0, 0, 0, 0, 1, 0, 0, 1, 1, 0, 0, 0, 0, 0, 0, 0, 0, 0,\n",
       "       0, 0, 0, 0, 0, 0, 0, 0, 0, 0, 0, 0, 0, 0, 0, 0, 1, 0, 0, 0, 0, 0,\n",
       "       0, 0, 0, 0, 0, 0, 0, 0, 0, 0, 0, 0, 0, 0, 0, 0, 0, 0, 1, 0, 0, 0,\n",
       "       1, 0, 0, 0, 0, 0, 0, 0, 0, 0, 0, 0, 0, 0, 0, 0, 1, 0, 0, 0, 0, 1,\n",
       "       0, 0, 0, 0, 1, 0, 0, 0, 0, 0, 0, 1, 0, 1, 1, 0, 0, 0, 1, 0, 0, 0,\n",
       "       0, 1, 0, 0, 0, 0, 0, 0, 0, 0, 0, 0, 0, 0, 0, 0, 0, 1, 1, 0, 0, 0,\n",
       "       0, 0, 1, 1, 0, 0, 0, 1, 0, 0, 0, 1, 1, 0, 0, 0, 0, 0, 0, 0, 0, 0,\n",
       "       0, 0, 0, 0, 0, 0, 0, 1, 0, 0, 0, 0, 0, 1, 0, 0, 0, 0, 0, 0, 0, 0,\n",
       "       0, 1, 0, 0, 0, 0, 0, 0, 0, 0, 0, 0, 1, 0, 0, 1, 0, 0, 0, 0, 1, 1,\n",
       "       0, 0, 1, 0, 0, 0, 0, 1, 0, 1, 0, 0, 0, 0, 0, 0, 0, 0, 0, 0, 1, 0,\n",
       "       0, 0, 1, 1, 0, 0, 1, 0, 0, 0, 1, 0, 0, 0, 0, 0, 1, 0, 0, 0, 0, 1,\n",
       "       0, 1, 1, 1, 0, 0, 0, 0, 0, 0, 1, 0, 0, 0, 0, 0, 1, 0, 0, 0, 0, 0,\n",
       "       0, 0, 0, 0, 0, 0, 0, 1, 1, 1, 0, 0, 0, 0, 0, 0, 0, 1, 0, 0, 1, 0,\n",
       "       0, 1, 0, 0, 1, 0, 0, 0, 1, 0, 0, 0, 0, 0, 0, 1, 0, 0, 0, 0, 0, 1,\n",
       "       0, 0, 1, 0, 0, 0, 0, 0, 0, 1, 1, 0, 1, 0, 0, 0, 0, 0, 0, 0, 1, 0,\n",
       "       1, 0, 0, 0, 1, 0, 1, 1, 1, 0, 0, 0, 0, 0, 0, 1, 0, 1, 0, 0, 1, 0,\n",
       "       0, 0, 0, 0, 0, 0, 1, 0, 1, 1, 1, 0, 1, 0, 1, 1, 0, 0], dtype=int32)"
      ]
     },
     "execution_count": 6,
     "metadata": {},
     "output_type": "execute_result"
    }
   ],
   "source": [
    "#ベクトルをリストに格納\n",
    "vectors_list=[m.docvecs[n] for n in range(len(m.docvecs))]\n",
    "\n",
    "#ドキュメント番号のリスト\n",
    "doc_nums=range(200,200+len(m.docvecs))\n",
    "\n",
    "#クラスタリング設定\n",
    "#クラスター数を変えたい場合はn_clustersを変えてください\n",
    "n_clusters = 2\n",
    "kmeans_model = KMeans(n_clusters=n_clusters, verbose=1, random_state=1, n_jobs=-1)\n",
    "\n",
    "#クラスタリング実行\n",
    "kmeans_model.fit(vectors_list)\n",
    "\n",
    "#クラスタリングデータにラベル付け\n",
    "labels=kmeans_model.labels_\n",
    "\n",
    "labels"
   ]
  },
  {
   "cell_type": "code",
   "execution_count": 7,
   "metadata": {},
   "outputs": [
    {
     "name": "stdout",
     "output_type": "stream",
     "text": [
      "[200, 201, 202, 203, 204, 206, 207, 208, 209, 210, 211, 212, 213, 214, 215, 216, 217, 218, 219, 220, 221, 222, 223, 224, 225, 226, 227, 228, 229, 231, 232, 235, 236, 237, 238, 239, 240, 241, 242, 243, 244, 245, 246, 247, 248, 249, 250, 251, 252, 253, 254, 255, 256, 257, 258, 259, 261, 262, 263, 264, 265, 266, 267, 268, 269, 270, 271, 272, 273, 274, 275, 276, 277, 278, 279, 280, 281, 282, 283, 285, 286, 287, 289, 290, 291, 292, 293, 294, 295, 296, 297, 298, 299, 300, 301, 302, 303, 305, 306, 307, 308, 310, 311, 312, 313, 315, 316, 317, 318, 319, 320, 322, 325, 326, 327, 329, 330, 331, 332, 334, 335, 336, 337, 338, 339, 340, 341, 342, 343, 344, 345, 346, 347, 348, 351, 352, 353, 354, 355, 358, 359, 360, 362, 363, 364, 367, 368, 369, 370, 371, 372, 373, 374, 375, 376, 377, 378, 379, 380, 381, 382, 384, 385, 386, 387, 388, 390, 391, 392, 393, 394, 395, 396, 397, 398, 400, 401, 402, 403, 404, 405, 406, 407, 408, 409, 411, 412, 414, 415, 416, 417, 420, 421, 423, 424, 425, 426, 428, 430, 431, 432, 433, 434, 435, 436, 437, 438, 439, 441, 442, 443, 446, 447, 449, 450, 451, 453, 454, 455, 456, 457, 459, 460, 461, 462, 464, 468, 469, 470, 471, 472, 473, 475, 476, 477, 478, 479, 481, 482, 483, 484, 485, 486, 487, 488, 489, 490, 491, 492, 496, 497, 498, 499, 500, 501, 502, 504, 505, 507, 508, 510, 511, 513, 514, 515, 517, 518, 519, 520, 521, 522, 524, 525, 526, 527, 528, 530, 531, 533, 534, 535, 536, 537, 538, 541, 543, 544, 545, 546, 547, 548, 549, 551, 553, 554, 555, 557, 561, 562, 563, 564, 565, 566, 568, 570, 571, 573, 574, 575, 576, 577, 578, 579, 581, 585, 587, 590, 591]\n",
      "[205, 230, 233, 234, 260, 284, 288, 304, 309, 314, 321, 323, 324, 328, 333, 349, 350, 356, 357, 361, 365, 366, 383, 389, 399, 410, 413, 418, 419, 422, 427, 429, 440, 444, 445, 448, 452, 458, 463, 465, 466, 467, 474, 480, 493, 494, 495, 503, 506, 509, 512, 516, 523, 529, 532, 539, 540, 542, 550, 552, 556, 558, 559, 560, 567, 569, 572, 580, 582, 583, 584, 586, 588, 589]\n"
     ]
    }
   ],
   "source": [
    "#ラベルとドキュメント番号の辞書づくり\n",
    "cluster_to_docs = defaultdict(list)\n",
    "for cluster_id, doc_num in zip(labels, doc_nums):\n",
    "    cluster_to_docs[cluster_id].append(doc_num)\n",
    "\n",
    "#クラスター出力\n",
    "\n",
    "for docs in cluster_to_docs.values():\n",
    "    print(docs)\n"
   ]
  },
  {
   "cell_type": "code",
   "execution_count": 8,
   "metadata": {},
   "outputs": [],
   "source": [
    "cluster0 = [data[i-200] for i in cluster_to_docs[0]]\n",
    "cluster1 = [data[i-200] for i in cluster_to_docs[1]]"
   ]
  },
  {
   "cell_type": "code",
   "execution_count": 9,
   "metadata": {},
   "outputs": [
    {
     "data": {
      "text/plain": [
       "['\"onmouseover=\"alert(decodeURI(decodeURI(/%58%53%53/.source)))\"\\n',\n",
       " '\"><frame src=\"javascript:alert`1`\">\\n',\n",
       " 'Type <code><b>echo hi &gt;t</b></code>\\n',\n",
       " 'Another useful command is <code>apache -k stop</code>.\\n',\n",
       " '<SELECT NAME=\"\" onmouseover=alert(1)></select>\\n',\n",
       " 'If necessary, start apache, either as a Win2000 service (using Admin Tools | Computer Management, or by typing <code>apache -k start -n apache</code>\\n',\n",
       " '<strong>2. Install Apache</strong>\\n',\n",
       " '&#39;><s><img src=\"javascript:alert(1)>\\n',\n",
       " '<svg><style><img/src=x onerror=alert(1)// </b>\\n',\n",
       " 'The TWiki <a href=\"http://TWiki.org\">standard installation</a>\\n',\n",
       " '</iframe> /></textarea><video><source onerror=alert();\\n',\n",
       " '<progress </caption><video><source <body onerror=alert();\\n',\n",
       " '<a href=\"#Server_Requirements\">Server Requirements</a>\\n',\n",
       " '<div/style=\"width:expression(alert(1))\">x</div>\\n',\n",
       " \"<strong>This applies only if you have root access:</strong> on hosted accounts, you shouldn't have this problem - otherwise, email tech support.\\n\",\n",
       " '\"</table><video><source onerror=jAvaScrIpt:window.onerror=alert();onerror=\\\\u0061lert();\\n',\n",
       " '<a href=\"http://twiki.org/cgi-bin/view/Codev.WindowsModPerlInstallCookbook\" title=\"\\'Codev.WindowsModPerlInstallCookbook\\' on TWiki site, we know it!\">TWiki:Codev.WindowsModPerlInstallCookbook</a> in case you use mod_perl.\\n',\n",
       " '\"onclick=\"alert`1`\" \"onFocus=\"alert`1`\"\\n',\n",
       " '\"\\'><script>eval(\"alert(document\\\\x2ecookie)\")</script>\\n',\n",
       " '-- <a href=\"http://TWiki.org/cgi-bin/view/Main/RichardDonkin\">RichardDonkin</a> - 24 Feb 2002\\n']"
      ]
     },
     "execution_count": 9,
     "metadata": {},
     "output_type": "execute_result"
    }
   ],
   "source": [
    "cluster0[0:20]"
   ]
  },
  {
   "cell_type": "code",
   "execution_count": 10,
   "metadata": {},
   "outputs": [
    {
     "data": {
      "text/plain": [
       "[\"!#%&)(*+,-./:;=?@]\\\\[^_'}|{~&#39;<s>&#39;><script>alert(1)</script>\\n\",\n",
       " '&#39;<s>&#39;><img src=\"javascript:alert(1)&#39;>\\n',\n",
       " '&#39;<s>&#39;><script>alert(1)</script>\\n',\n",
       " '<embed/<a/onload=alert();?n<script type=\"text/javascript\">\\n',\n",
       " '/></track><video><source onerror=javascript:window.onerror=alert();script:al\\\\u0065rt();\\n',\n",
       " \"!#%&)(*+,-./:;=?@]\\\\[^_'}|{~<s><script>alert(1)</script>\\n\",\n",
       " '<img src=\"http://TWiki.org/p/pub/TWiki/TWikiDocGraphics/tip.gif\" border=\"0\" alt=\"TIP\" width=\"16\" height=\"16\" />\\n',\n",
       " 'Specify <code><b>c:\\\\</b></code> as the installation directory - this actually installs Apache into <code><b>c:\\\\apache</b></code> (if you specify <code>c:\\\\apache</code>\\n',\n",
       " '<frameset><frame/onload=alert(1); />\\n',\n",
       " '\";\\\\r\\\\nalert`1`;//\\n',\n",
       " '<tr><th bgcolor=\"#99CCCC\"> <strong>Resource</strong> </th><th bgcolor=\"#99CCCC\">\\n',\n",
       " '<embed/onload=al?u0065rt();?n<script type=\"text/javascript\">\\n',\n",
       " '\\\\r\\\\nalert`1`;//\\n',\n",
       " '<div style=\"color:&#x65;xpression(alert(1));\">a</div>\\n',\n",
       " '\";\\\\r\\\\nalert(1);//\\n',\n",
       " '<table border=\"1\" cellspacing=\"0\" cellpadding=\"1\"> <tr><th bgcolor=\"#99CCCC\"> <strong>Component</strong> </th><th bgcolor=\"#99CCCC\">\\n',\n",
       " '<table border=\"1\" cellspacing=\"0\" cellpadding=\"1\"> <tr><th bgcolor=\"#99CCCC\"> <strong>TWiki dir:</strong> </th><th bgcolor=\"#99CCCC\">\\n',\n",
       " '\" onmouseover=\"alert(/&#0088;&#0083;&#0083;/.source)\\n',\n",
       " '<object/src=x onload=alert(1);?n<script type=\"text/javascript\">\\n',\n",
       " '!#%&)(*+,-./:;=?@]\\\\&#39;&#39;style=&#39;background:url(javascript:alert(1))&#39; &#39;\\n']"
      ]
     },
     "execution_count": 10,
     "metadata": {},
     "output_type": "execute_result"
    }
   ],
   "source": [
    "cluster1[0:20]"
   ]
  },
  {
   "cell_type": "code",
   "execution_count": null,
   "metadata": {},
   "outputs": [],
   "source": [
    "\n",
    "#どんなクラスタリングになったか、棒グラフ出力しますよ\n",
    "import matplotlib.pyplot as plt\n",
    "\n",
    "#x軸ラベル\n",
    "x_label_name = []\n",
    "for i in range(n_clusters):\n",
    "    x_label_name.append(\"Cluster\"+str(i))\n",
    "\n",
    "#x=left ,y=heightデータ. ここではx=クラスター名、y=クラスター内の文書数\n",
    "left = range(n_clusters)\n",
    "height = []\n",
    "for docs in cluster_to_docs.values():\n",
    "    height.append(len(docs))\n",
    "print(height,left,x_label_name)\n",
    "\n",
    "#棒グラフ設定\n",
    "plt.bar(left,height,color=\"#FF5B70\",tick_label=x_label_name,align=\"center\")\n",
    "plt.title(\"Document clusters\")\n",
    "plt.xlabel(\"cluster name\")\n",
    "plt.ylabel(\"number of documents\")\n",
    "plt.grid(True)\n",
    "plt.show()"
   ]
  }
 ],
 "metadata": {
  "kernelspec": {
   "display_name": "Python 3",
   "language": "python",
   "name": "python3"
  },
  "language_info": {
   "codemirror_mode": {
    "name": "ipython",
    "version": 3
   },
   "file_extension": ".py",
   "mimetype": "text/x-python",
   "name": "python",
   "nbconvert_exporter": "python",
   "pygments_lexer": "ipython3",
   "version": "3.7.3"
  }
 },
 "nbformat": 4,
 "nbformat_minor": 2
}
